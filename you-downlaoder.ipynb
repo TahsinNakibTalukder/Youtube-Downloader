{
 "cells": [
  {
   "cell_type": "code",
   "execution_count": 1,
   "metadata": {},
   "outputs": [],
   "source": [
    "from pytube import YouTube\n",
    "from playsound import playsound\n",
    "import tkinter as tk"
   ]
  },
  {
   "cell_type": "code",
   "execution_count": 2,
   "metadata": {},
   "outputs": [],
   "source": [
    "WINDOW_WIDTH = 500\n",
    "WINDOW_HEIGHT = 200\n",
    "WINDOW_TITLE = \"YOUTUBE DOWNLOADER\"\n",
    "BUTTON_CLICK_SOUND = \"clicks.m4a\""
   ]
  },
  {
   "cell_type": "code",
   "execution_count": null,
   "metadata": {},
   "outputs": [],
   "source": []
  },
  {
   "cell_type": "code",
   "execution_count": null,
   "metadata": {},
   "outputs": [],
   "source": [
    "class YoutubeDownloader:\n",
    "    def __init__(self):\n",
    "        self.window = tk.Tk()\n",
    "        self.window.geometry(\"{}x{}\".format(WINDOW_WIDTH, WINDOW_HEIGHT))\n",
    "        self.window.configure(bg=\"#ffc000\")\n",
    "        self.window.title(WINDOW_TITLE)\n",
    "        \n",
    "        #create lables\n",
    "        self.link_label = tk.Label(self.window, text = \"Download Link\")\n",
    "        self.link_label.grid(column = 0, row = 0)\n",
    "        self.name_label = tk.Label(self.window, text = \"Save file as\")\n",
    "        self.name_label.grid(column = 0, row = 1)\n",
    "        self.path_label = tk.Label(self.window, text = \"Save file path\")\n",
    "        self.path_label.grid(column = 0, row = 2)\n",
    "        self.ext_label = tk.Label(self.window, text = \"File Extension\")\n",
    "        self.ext_label.grid(column = 0, row = 3)\n",
    "        \n",
    "        #create entry\n",
    "        self.link_entry = tk.Entry(master= self.window, width = 40)\n",
    "        self.link_entry.grid(column = 1, row = 0)\n",
    "        self.name_entry = tk.Entry(master= self.window, width = 40)\n",
    "        self.name_entry.grid(column = 1, row = 1)\n",
    "        self.path_entry = tk.Entry(master= self.window, width = 40)\n",
    "        self.path_entry.grid(column = 1, row = 2)\n",
    "        self.ext_entry = tk.Entry(master= self.window, width = 40)\n",
    "        self.ext_entry.grid(column = 1, row = 3)\n",
    "        \n",
    "        #Create download Button\n",
    "        self.download_button = tk.Button(self.window, text = \"Download\", command = self.__get_link)\n",
    "        self.download_button.grid(column = 1, row = 4)\n",
    "        \n",
    "        return\n",
    "    \n",
    "    def __downloader(self, link, save_path = \"\", save_name = \"\", extension = \"mp4\"):\n",
    "        \n",
    "        yt = YouTube(link)\n",
    "        yt_stream = yt.streams.filter(progressive = True, file_extension = extension).order_by('resolution').desc().first()\n",
    "        yt_stream.download(output_path = save_path, filename = save_name)\n",
    "        \n",
    "        return\n",
    "    \n",
    "        \n",
    "    \n",
    "    def __get_link(self):\n",
    "        \n",
    "        link = self.link_entry.get()\n",
    "        path = self.path_entry.get()\n",
    "        name = self.name_entry.get()\n",
    "        ext = self.ext_entry.get()\n",
    "        \n",
    "        self.__downloader(link, path, name, ext)\n",
    "        \n",
    "        return\n",
    "    \n",
    "        \n",
    "    def run_app(self):\n",
    "        self.window.mainloop()\n",
    "        return\n",
    "    \n",
    "    \n",
    "if __name__ == \"__main__\":\n",
    "    app = YoutubeDownloader()\n",
    "    app.run_app()\n",
    "        "
   ]
  },
  {
   "cell_type": "code",
   "execution_count": null,
   "metadata": {},
   "outputs": [],
   "source": []
  },
  {
   "cell_type": "code",
   "execution_count": null,
   "metadata": {},
   "outputs": [],
   "source": []
  },
  {
   "cell_type": "code",
   "execution_count": null,
   "metadata": {},
   "outputs": [],
   "source": []
  },
  {
   "cell_type": "code",
   "execution_count": null,
   "metadata": {},
   "outputs": [],
   "source": []
  },
  {
   "cell_type": "code",
   "execution_count": null,
   "metadata": {},
   "outputs": [],
   "source": []
  },
  {
   "cell_type": "code",
   "execution_count": null,
   "metadata": {},
   "outputs": [],
   "source": []
  },
  {
   "cell_type": "code",
   "execution_count": null,
   "metadata": {},
   "outputs": [],
   "source": []
  },
  {
   "cell_type": "code",
   "execution_count": null,
   "metadata": {},
   "outputs": [],
   "source": []
  },
  {
   "cell_type": "code",
   "execution_count": null,
   "metadata": {},
   "outputs": [],
   "source": []
  }
 ],
 "metadata": {
  "kernelspec": {
   "display_name": "Python 3",
   "language": "python",
   "name": "python3"
  },
  "language_info": {
   "codemirror_mode": {
    "name": "ipython",
    "version": 3
   },
   "file_extension": ".py",
   "mimetype": "text/x-python",
   "name": "python",
   "nbconvert_exporter": "python",
   "pygments_lexer": "ipython3",
   "version": "3.8.5"
  }
 },
 "nbformat": 4,
 "nbformat_minor": 4
}
